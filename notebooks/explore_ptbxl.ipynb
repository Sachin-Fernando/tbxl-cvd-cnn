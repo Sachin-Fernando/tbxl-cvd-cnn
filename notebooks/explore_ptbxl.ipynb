{
 "cells": [
  {
   "cell_type": "code",
   "execution_count": 2,
   "id": "097efc4b-0489-4fd0-a970-cbf9250f0054",
   "metadata": {},
   "outputs": [
    {
     "name": "stdout",
     "output_type": "stream",
     "text": [
      "<class 'pandas.core.frame.DataFrame'>\n",
      "RangeIndex: 3407 entries, 0 to 3406\n",
      "Data columns (total 3 columns):\n",
      " #   Column                 Non-Null Count  Dtype \n",
      "---  ------                 --------------  ----- \n",
      " 0   ecg_id                 3407 non-null   int64 \n",
      " 1   filename_lr            3407 non-null   object\n",
      " 2   diagnostic_superclass  3407 non-null   object\n",
      "dtypes: int64(1), object(2)\n",
      "memory usage: 80.0+ KB\n"
     ]
    }
   ],
   "source": [
    "import pandas as pd\n",
    "\n",
    "df = pd.read_csv('../sample_ids_test.csv')\n",
    "\n",
    "df.info()"
   ]
  },
  {
   "cell_type": "code",
   "execution_count": 1,
   "id": "532f7132-89f7-451d-b152-201462e755cb",
   "metadata": {},
   "outputs": [
    {
     "name": "stdout",
     "output_type": "stream",
     "text": [
      "\u001b[34mbatches\u001b[m\u001b[m/                      sample_ids_test.csv\n",
      "create_sample_ids_batches.py  \u001b[34msrc\u001b[m\u001b[m/\n",
      "\u001b[34mnotebooks\u001b[m\u001b[m/                    \u001b[34mvenv\u001b[m\u001b[m/\n",
      "README.md\n"
     ]
    }
   ],
   "source": [
    "ls ../"
   ]
  },
  {
   "cell_type": "code",
   "execution_count": 2,
   "id": "1905065b-5b87-43e9-b53f-bb3e44d6da38",
   "metadata": {},
   "outputs": [
    {
     "name": "stdout",
     "output_type": "stream",
     "text": [
      "\u001b[34mptbxl-data\u001b[m\u001b[m/   \u001b[34mtbxl-cvd-cnn\u001b[m\u001b[m/\n"
     ]
    }
   ],
   "source": [
    "ls ../.."
   ]
  },
  {
   "cell_type": "code",
   "execution_count": 3,
   "id": "5ad9b40e-6d8a-4aec-a09a-2b9f28397d03",
   "metadata": {},
   "outputs": [
    {
     "name": "stdout",
     "output_type": "stream",
     "text": [
      "example_physionet.py      ptbxl_v102_changelog.txt  \u001b[34mrecords500\u001b[m\u001b[m/\n",
      "Extract_Data.ipynb        ptbxl_v103_changelog.txt  sample_ids.csv\n",
      "LICENSE.txt               RECORDS                   scp_statements.csv\n",
      "ptbxl_database.csv        \u001b[34mrecords100\u001b[m\u001b[m/               SHA256SUMS.txt\n"
     ]
    }
   ],
   "source": [
    "ls ../../ptbxl-data/ \n"
   ]
  },
  {
   "cell_type": "code",
   "execution_count": 8,
   "id": "75ea9f37-fd03-44ca-960e-d820bdb7c735",
   "metadata": {},
   "outputs": [],
   "source": [
    "df_scp = pd.read_csv('../../ptbxl-data/scp_statements.csv')"
   ]
  },
  {
   "cell_type": "code",
   "execution_count": 9,
   "id": "2a4a09a0-2e3b-457c-a8a6-2e3dd11e8c58",
   "metadata": {},
   "outputs": [
    {
     "data": {
      "text/html": [
       "<div>\n",
       "<style scoped>\n",
       "    .dataframe tbody tr th:only-of-type {\n",
       "        vertical-align: middle;\n",
       "    }\n",
       "\n",
       "    .dataframe tbody tr th {\n",
       "        vertical-align: top;\n",
       "    }\n",
       "\n",
       "    .dataframe thead th {\n",
       "        text-align: right;\n",
       "    }\n",
       "</style>\n",
       "<table border=\"1\" class=\"dataframe\">\n",
       "  <thead>\n",
       "    <tr style=\"text-align: right;\">\n",
       "      <th></th>\n",
       "      <th>Unnamed: 0</th>\n",
       "      <th>description</th>\n",
       "      <th>diagnostic</th>\n",
       "      <th>form</th>\n",
       "      <th>rhythm</th>\n",
       "      <th>diagnostic_class</th>\n",
       "      <th>diagnostic_subclass</th>\n",
       "      <th>Statement Category</th>\n",
       "      <th>SCP-ECG Statement Description</th>\n",
       "      <th>AHA code</th>\n",
       "      <th>aECG REFID</th>\n",
       "      <th>CDISC Code</th>\n",
       "      <th>DICOM Code</th>\n",
       "    </tr>\n",
       "  </thead>\n",
       "  <tbody>\n",
       "    <tr>\n",
       "      <th>0</th>\n",
       "      <td>NDT</td>\n",
       "      <td>non-diagnostic T abnormalities</td>\n",
       "      <td>1.0</td>\n",
       "      <td>1.0</td>\n",
       "      <td>NaN</td>\n",
       "      <td>STTC</td>\n",
       "      <td>STTC</td>\n",
       "      <td>other ST-T descriptive statements</td>\n",
       "      <td>non-diagnostic T abnormalities</td>\n",
       "      <td>NaN</td>\n",
       "      <td>NaN</td>\n",
       "      <td>NaN</td>\n",
       "      <td>NaN</td>\n",
       "    </tr>\n",
       "    <tr>\n",
       "      <th>1</th>\n",
       "      <td>NST_</td>\n",
       "      <td>non-specific ST changes</td>\n",
       "      <td>1.0</td>\n",
       "      <td>1.0</td>\n",
       "      <td>NaN</td>\n",
       "      <td>STTC</td>\n",
       "      <td>NST_</td>\n",
       "      <td>Basic roots for coding ST-T changes and abnorm...</td>\n",
       "      <td>non-specific ST changes</td>\n",
       "      <td>145.0</td>\n",
       "      <td>MDC_ECG_RHY_STHILOST</td>\n",
       "      <td>NaN</td>\n",
       "      <td>NaN</td>\n",
       "    </tr>\n",
       "    <tr>\n",
       "      <th>2</th>\n",
       "      <td>DIG</td>\n",
       "      <td>digitalis-effect</td>\n",
       "      <td>1.0</td>\n",
       "      <td>1.0</td>\n",
       "      <td>NaN</td>\n",
       "      <td>STTC</td>\n",
       "      <td>STTC</td>\n",
       "      <td>other ST-T descriptive statements</td>\n",
       "      <td>suggests digitalis-effect</td>\n",
       "      <td>205.0</td>\n",
       "      <td>NaN</td>\n",
       "      <td>NaN</td>\n",
       "      <td>NaN</td>\n",
       "    </tr>\n",
       "    <tr>\n",
       "      <th>3</th>\n",
       "      <td>LNGQT</td>\n",
       "      <td>long QT-interval</td>\n",
       "      <td>1.0</td>\n",
       "      <td>1.0</td>\n",
       "      <td>NaN</td>\n",
       "      <td>STTC</td>\n",
       "      <td>STTC</td>\n",
       "      <td>other ST-T descriptive statements</td>\n",
       "      <td>long QT-interval</td>\n",
       "      <td>148.0</td>\n",
       "      <td>NaN</td>\n",
       "      <td>NaN</td>\n",
       "      <td>NaN</td>\n",
       "    </tr>\n",
       "    <tr>\n",
       "      <th>4</th>\n",
       "      <td>NORM</td>\n",
       "      <td>normal ECG</td>\n",
       "      <td>1.0</td>\n",
       "      <td>NaN</td>\n",
       "      <td>NaN</td>\n",
       "      <td>NORM</td>\n",
       "      <td>NORM</td>\n",
       "      <td>Normal/abnormal</td>\n",
       "      <td>normal ECG</td>\n",
       "      <td>1.0</td>\n",
       "      <td>NaN</td>\n",
       "      <td>NaN</td>\n",
       "      <td>F-000B7</td>\n",
       "    </tr>\n",
       "    <tr>\n",
       "      <th>...</th>\n",
       "      <td>...</td>\n",
       "      <td>...</td>\n",
       "      <td>...</td>\n",
       "      <td>...</td>\n",
       "      <td>...</td>\n",
       "      <td>...</td>\n",
       "      <td>...</td>\n",
       "      <td>...</td>\n",
       "      <td>...</td>\n",
       "      <td>...</td>\n",
       "      <td>...</td>\n",
       "      <td>...</td>\n",
       "      <td>...</td>\n",
       "    </tr>\n",
       "    <tr>\n",
       "      <th>66</th>\n",
       "      <td>BIGU</td>\n",
       "      <td>bigeminal pattern (unknown origin, SV or Ventr...</td>\n",
       "      <td>NaN</td>\n",
       "      <td>NaN</td>\n",
       "      <td>1.0</td>\n",
       "      <td>NaN</td>\n",
       "      <td>NaN</td>\n",
       "      <td>Statements related to ectopic rhythm abnormali...</td>\n",
       "      <td>bigeminal pattern (unknown origin, SV or Ventr...</td>\n",
       "      <td>NaN</td>\n",
       "      <td>NaN</td>\n",
       "      <td>NaN</td>\n",
       "      <td>NaN</td>\n",
       "    </tr>\n",
       "    <tr>\n",
       "      <th>67</th>\n",
       "      <td>AFLT</td>\n",
       "      <td>atrial flutter</td>\n",
       "      <td>NaN</td>\n",
       "      <td>NaN</td>\n",
       "      <td>1.0</td>\n",
       "      <td>NaN</td>\n",
       "      <td>NaN</td>\n",
       "      <td>Statements related to impulse formation (abnor...</td>\n",
       "      <td>atrial flutter</td>\n",
       "      <td>51.0</td>\n",
       "      <td>MDC_ECG_RHY_ATR_FLUT</td>\n",
       "      <td>NaN</td>\n",
       "      <td>NaN</td>\n",
       "    </tr>\n",
       "    <tr>\n",
       "      <th>68</th>\n",
       "      <td>SVTAC</td>\n",
       "      <td>supraventricular tachycardia</td>\n",
       "      <td>NaN</td>\n",
       "      <td>NaN</td>\n",
       "      <td>1.0</td>\n",
       "      <td>NaN</td>\n",
       "      <td>NaN</td>\n",
       "      <td>Statements related to impulse formation (abnor...</td>\n",
       "      <td>supraventricular tachycardia</td>\n",
       "      <td>55.0</td>\n",
       "      <td>MDC_ECG_RHY_SV_TACHY</td>\n",
       "      <td>NaN</td>\n",
       "      <td>D3-31290</td>\n",
       "    </tr>\n",
       "    <tr>\n",
       "      <th>69</th>\n",
       "      <td>PSVT</td>\n",
       "      <td>paroxysmal supraventricular tachycardia</td>\n",
       "      <td>NaN</td>\n",
       "      <td>NaN</td>\n",
       "      <td>1.0</td>\n",
       "      <td>NaN</td>\n",
       "      <td>NaN</td>\n",
       "      <td>Statements related to impulse formation (abnor...</td>\n",
       "      <td>paroxysmal supraventricular tachycardia</td>\n",
       "      <td>NaN</td>\n",
       "      <td>MDC_ECG_RHY_SV_TACHY_PAROX</td>\n",
       "      <td>NaN</td>\n",
       "      <td>NaN</td>\n",
       "    </tr>\n",
       "    <tr>\n",
       "      <th>70</th>\n",
       "      <td>TRIGU</td>\n",
       "      <td>trigeminal pattern (unknown origin, SV or Vent...</td>\n",
       "      <td>NaN</td>\n",
       "      <td>NaN</td>\n",
       "      <td>1.0</td>\n",
       "      <td>NaN</td>\n",
       "      <td>NaN</td>\n",
       "      <td>Statements related to ectopic rhythm abnormali...</td>\n",
       "      <td>trigeminal pattern (unknown origin, SV or Vent...</td>\n",
       "      <td>NaN</td>\n",
       "      <td>NaN</td>\n",
       "      <td>NaN</td>\n",
       "      <td>NaN</td>\n",
       "    </tr>\n",
       "  </tbody>\n",
       "</table>\n",
       "<p>71 rows × 13 columns</p>\n",
       "</div>"
      ],
      "text/plain": [
       "   Unnamed: 0                                        description  diagnostic  \\\n",
       "0         NDT                     non-diagnostic T abnormalities         1.0   \n",
       "1        NST_                            non-specific ST changes         1.0   \n",
       "2         DIG                                   digitalis-effect         1.0   \n",
       "3       LNGQT                                   long QT-interval         1.0   \n",
       "4        NORM                                         normal ECG         1.0   \n",
       "..        ...                                                ...         ...   \n",
       "66       BIGU  bigeminal pattern (unknown origin, SV or Ventr...         NaN   \n",
       "67       AFLT                                     atrial flutter         NaN   \n",
       "68      SVTAC                       supraventricular tachycardia         NaN   \n",
       "69       PSVT            paroxysmal supraventricular tachycardia         NaN   \n",
       "70      TRIGU  trigeminal pattern (unknown origin, SV or Vent...         NaN   \n",
       "\n",
       "    form  rhythm diagnostic_class diagnostic_subclass  \\\n",
       "0    1.0     NaN             STTC                STTC   \n",
       "1    1.0     NaN             STTC                NST_   \n",
       "2    1.0     NaN             STTC                STTC   \n",
       "3    1.0     NaN             STTC                STTC   \n",
       "4    NaN     NaN             NORM                NORM   \n",
       "..   ...     ...              ...                 ...   \n",
       "66   NaN     1.0              NaN                 NaN   \n",
       "67   NaN     1.0              NaN                 NaN   \n",
       "68   NaN     1.0              NaN                 NaN   \n",
       "69   NaN     1.0              NaN                 NaN   \n",
       "70   NaN     1.0              NaN                 NaN   \n",
       "\n",
       "                                   Statement Category  \\\n",
       "0                   other ST-T descriptive statements   \n",
       "1   Basic roots for coding ST-T changes and abnorm...   \n",
       "2                   other ST-T descriptive statements   \n",
       "3                   other ST-T descriptive statements   \n",
       "4                                     Normal/abnormal   \n",
       "..                                                ...   \n",
       "66  Statements related to ectopic rhythm abnormali...   \n",
       "67  Statements related to impulse formation (abnor...   \n",
       "68  Statements related to impulse formation (abnor...   \n",
       "69  Statements related to impulse formation (abnor...   \n",
       "70  Statements related to ectopic rhythm abnormali...   \n",
       "\n",
       "                        SCP-ECG Statement Description  AHA code  \\\n",
       "0                      non-diagnostic T abnormalities       NaN   \n",
       "1                             non-specific ST changes     145.0   \n",
       "2                           suggests digitalis-effect     205.0   \n",
       "3                                    long QT-interval     148.0   \n",
       "4                                          normal ECG       1.0   \n",
       "..                                                ...       ...   \n",
       "66  bigeminal pattern (unknown origin, SV or Ventr...       NaN   \n",
       "67                                     atrial flutter      51.0   \n",
       "68                       supraventricular tachycardia      55.0   \n",
       "69            paroxysmal supraventricular tachycardia       NaN   \n",
       "70  trigeminal pattern (unknown origin, SV or Vent...       NaN   \n",
       "\n",
       "                    aECG REFID CDISC Code DICOM Code  \n",
       "0                          NaN        NaN        NaN  \n",
       "1         MDC_ECG_RHY_STHILOST        NaN        NaN  \n",
       "2                          NaN        NaN        NaN  \n",
       "3                          NaN        NaN        NaN  \n",
       "4                          NaN        NaN    F-000B7  \n",
       "..                         ...        ...        ...  \n",
       "66                         NaN        NaN        NaN  \n",
       "67        MDC_ECG_RHY_ATR_FLUT        NaN        NaN  \n",
       "68        MDC_ECG_RHY_SV_TACHY        NaN   D3-31290  \n",
       "69  MDC_ECG_RHY_SV_TACHY_PAROX        NaN        NaN  \n",
       "70                         NaN        NaN        NaN  \n",
       "\n",
       "[71 rows x 13 columns]"
      ]
     },
     "execution_count": 9,
     "metadata": {},
     "output_type": "execute_result"
    }
   ],
   "source": [
    "df_scp\n"
   ]
  },
  {
   "cell_type": "code",
   "execution_count": 10,
   "id": "030716fa-b3fa-4be4-82af-76e87ad2f2a9",
   "metadata": {},
   "outputs": [],
   "source": [
    "df_ptxbl = pd.read_csv('../../ptbxl-data/ptbxl_database.csv')"
   ]
  },
  {
   "cell_type": "code",
   "execution_count": 12,
   "id": "9bfc4e2d-b432-4deb-afca-688029cb5fa2",
   "metadata": {},
   "outputs": [
    {
     "name": "stdout",
     "output_type": "stream",
     "text": [
      "<class 'pandas.core.frame.DataFrame'>\n",
      "RangeIndex: 21799 entries, 0 to 21798\n",
      "Data columns (total 28 columns):\n",
      " #   Column                        Non-Null Count  Dtype  \n",
      "---  ------                        --------------  -----  \n",
      " 0   ecg_id                        21799 non-null  int64  \n",
      " 1   patient_id                    21799 non-null  float64\n",
      " 2   age                           21799 non-null  float64\n",
      " 3   sex                           21799 non-null  int64  \n",
      " 4   height                        6974 non-null   float64\n",
      " 5   weight                        9421 non-null   float64\n",
      " 6   nurse                         20326 non-null  float64\n",
      " 7   site                          21782 non-null  float64\n",
      " 8   device                        21799 non-null  object \n",
      " 9   recording_date                21799 non-null  object \n",
      " 10  report                        21799 non-null  object \n",
      " 11  scp_codes                     21799 non-null  object \n",
      " 12  heart_axis                    13331 non-null  object \n",
      " 13  infarction_stadium1           5612 non-null   object \n",
      " 14  infarction_stadium2           103 non-null    object \n",
      " 15  validated_by                  12421 non-null  float64\n",
      " 16  second_opinion                21799 non-null  bool   \n",
      " 17  initial_autogenerated_report  21799 non-null  bool   \n",
      " 18  validated_by_human            21799 non-null  bool   \n",
      " 19  baseline_drift                1598 non-null   object \n",
      " 20  static_noise                  3260 non-null   object \n",
      " 21  burst_noise                   613 non-null    object \n",
      " 22  electrodes_problems           30 non-null     object \n",
      " 23  extra_beats                   1949 non-null   object \n",
      " 24  pacemaker                     291 non-null    object \n",
      " 25  strat_fold                    21799 non-null  int64  \n",
      " 26  filename_lr                   21799 non-null  object \n",
      " 27  filename_hr                   21799 non-null  object \n",
      "dtypes: bool(3), float64(7), int64(3), object(15)\n",
      "memory usage: 4.2+ MB\n"
     ]
    }
   ],
   "source": [
    "df_ptxbl.info()"
   ]
  },
  {
   "cell_type": "code",
   "execution_count": 13,
   "id": "7fb8968e-512b-44d8-865c-2de4f1b3c678",
   "metadata": {},
   "outputs": [
    {
     "data": {
      "text/plain": [
       "0                 {'NORM': 100.0, 'LVOLT': 0.0, 'SR': 0.0}\n",
       "1                             {'NORM': 80.0, 'SBRAD': 0.0}\n",
       "2                               {'NORM': 100.0, 'SR': 0.0}\n",
       "3                               {'NORM': 100.0, 'SR': 0.0}\n",
       "4                               {'NORM': 100.0, 'SR': 0.0}\n",
       "                               ...                        \n",
       "21794    {'NDT': 100.0, 'PVC': 100.0, 'VCLVH': 0.0, 'ST...\n",
       "21795             {'NORM': 100.0, 'ABQRS': 0.0, 'SR': 0.0}\n",
       "21796                           {'ISCAS': 50.0, 'SR': 0.0}\n",
       "21797                           {'NORM': 100.0, 'SR': 0.0}\n",
       "21798                           {'NORM': 100.0, 'SR': 0.0}\n",
       "Name: scp_codes, Length: 21799, dtype: object"
      ]
     },
     "execution_count": 13,
     "metadata": {},
     "output_type": "execute_result"
    }
   ],
   "source": [
    "df_ptxbl['scp_codes']"
   ]
  },
  {
   "cell_type": "code",
   "execution_count": 4,
   "id": "818ccb15-a410-4c9d-9ebe-0708b978318f",
   "metadata": {},
   "outputs": [],
   "source": [
    "df_all_batches = pd.read_csv('../all_batches.csv')"
   ]
  },
  {
   "cell_type": "code",
   "execution_count": 6,
   "id": "e3230586",
   "metadata": {},
   "outputs": [
    {
     "data": {
      "text/html": [
       "<div>\n",
       "<style scoped>\n",
       "    .dataframe tbody tr th:only-of-type {\n",
       "        vertical-align: middle;\n",
       "    }\n",
       "\n",
       "    .dataframe tbody tr th {\n",
       "        vertical-align: top;\n",
       "    }\n",
       "\n",
       "    .dataframe thead th {\n",
       "        text-align: right;\n",
       "    }\n",
       "</style>\n",
       "<table border=\"1\" class=\"dataframe\">\n",
       "  <thead>\n",
       "    <tr style=\"text-align: right;\">\n",
       "      <th></th>\n",
       "      <th>ecg_id</th>\n",
       "      <th>filename_lr</th>\n",
       "      <th>diagnostic_superclass</th>\n",
       "    </tr>\n",
       "  </thead>\n",
       "  <tbody>\n",
       "    <tr>\n",
       "      <th>0</th>\n",
       "      <td>330</td>\n",
       "      <td>records100/00000/00330_lr</td>\n",
       "      <td>NORM</td>\n",
       "    </tr>\n",
       "    <tr>\n",
       "      <th>1</th>\n",
       "      <td>1646</td>\n",
       "      <td>records100/01000/01646_lr</td>\n",
       "      <td>STTC</td>\n",
       "    </tr>\n",
       "    <tr>\n",
       "      <th>2</th>\n",
       "      <td>19062</td>\n",
       "      <td>records100/19000/19062_lr</td>\n",
       "      <td>MI</td>\n",
       "    </tr>\n",
       "    <tr>\n",
       "      <th>3</th>\n",
       "      <td>15587</td>\n",
       "      <td>records100/15000/15587_lr</td>\n",
       "      <td>NORM</td>\n",
       "    </tr>\n",
       "    <tr>\n",
       "      <th>4</th>\n",
       "      <td>19570</td>\n",
       "      <td>records100/19000/19570_lr</td>\n",
       "      <td>MI</td>\n",
       "    </tr>\n",
       "    <tr>\n",
       "      <th>...</th>\n",
       "      <td>...</td>\n",
       "      <td>...</td>\n",
       "      <td>...</td>\n",
       "    </tr>\n",
       "    <tr>\n",
       "      <th>13619</th>\n",
       "      <td>18259</td>\n",
       "      <td>records100/18000/18259_lr</td>\n",
       "      <td>NORM</td>\n",
       "    </tr>\n",
       "    <tr>\n",
       "      <th>13620</th>\n",
       "      <td>13459</td>\n",
       "      <td>records100/13000/13459_lr</td>\n",
       "      <td>MI</td>\n",
       "    </tr>\n",
       "    <tr>\n",
       "      <th>13621</th>\n",
       "      <td>16729</td>\n",
       "      <td>records100/16000/16729_lr</td>\n",
       "      <td>STTC</td>\n",
       "    </tr>\n",
       "    <tr>\n",
       "      <th>13622</th>\n",
       "      <td>17555</td>\n",
       "      <td>records100/17000/17555_lr</td>\n",
       "      <td>NORM</td>\n",
       "    </tr>\n",
       "    <tr>\n",
       "      <th>13623</th>\n",
       "      <td>8719</td>\n",
       "      <td>records100/08000/08719_lr</td>\n",
       "      <td>NORM</td>\n",
       "    </tr>\n",
       "  </tbody>\n",
       "</table>\n",
       "<p>13624 rows × 3 columns</p>\n",
       "</div>"
      ],
      "text/plain": [
       "       ecg_id                filename_lr diagnostic_superclass\n",
       "0         330  records100/00000/00330_lr                  NORM\n",
       "1        1646  records100/01000/01646_lr                  STTC\n",
       "2       19062  records100/19000/19062_lr                    MI\n",
       "3       15587  records100/15000/15587_lr                  NORM\n",
       "4       19570  records100/19000/19570_lr                    MI\n",
       "...       ...                        ...                   ...\n",
       "13619   18259  records100/18000/18259_lr                  NORM\n",
       "13620   13459  records100/13000/13459_lr                    MI\n",
       "13621   16729  records100/16000/16729_lr                  STTC\n",
       "13622   17555  records100/17000/17555_lr                  NORM\n",
       "13623    8719  records100/08000/08719_lr                  NORM\n",
       "\n",
       "[13624 rows x 3 columns]"
      ]
     },
     "execution_count": 6,
     "metadata": {},
     "output_type": "execute_result"
    }
   ],
   "source": [
    "df_all_batches"
   ]
  },
  {
   "cell_type": "code",
   "execution_count": 10,
   "id": "ddf974c4",
   "metadata": {},
   "outputs": [
    {
     "name": "stdout",
     "output_type": "stream",
     "text": [
      "7607\n"
     ]
    }
   ],
   "source": [
    "print((df_all_batches['diagnostic_superclass'] == 'NORM').sum())"
   ]
  },
  {
   "cell_type": "code",
   "execution_count": 11,
   "id": "c4d1be19",
   "metadata": {},
   "outputs": [
    {
     "name": "stdout",
     "output_type": "stream",
     "text": [
      "✅ ECG counts by diagnostic superclass:\n",
      "NORM: 7607\n",
      "MI: 3720\n",
      "STTC: 2297\n"
     ]
    }
   ],
   "source": [
    "# Count ECGs by diagnostic_superclass\n",
    "counts = df_all_batches['diagnostic_superclass'].value_counts()\n",
    "\n",
    "# Print results\n",
    "print(\"✅ ECG counts by diagnostic superclass:\")\n",
    "for label, count in counts.items():\n",
    "    print(f\"{label}: {count}\")\n"
   ]
  },
  {
   "cell_type": "code",
   "execution_count": 12,
   "id": "d72452b9",
   "metadata": {},
   "outputs": [
    {
     "name": "stdout",
     "output_type": "stream",
     "text": [
      "<class 'pandas.core.frame.DataFrame'>\n",
      "RangeIndex: 3407 entries, 0 to 3406\n",
      "Data columns (total 3 columns):\n",
      " #   Column                 Non-Null Count  Dtype \n",
      "---  ------                 --------------  ----- \n",
      " 0   ecg_id                 3407 non-null   int64 \n",
      " 1   filename_lr            3407 non-null   object\n",
      " 2   diagnostic_superclass  3407 non-null   object\n",
      "dtypes: int64(1), object(2)\n",
      "memory usage: 80.0+ KB\n"
     ]
    }
   ],
   "source": [
    "df_sample_ids_test = pd.read_csv('../sample_ids_test.csv')\n",
    "df_sample_ids_test.info()"
   ]
  },
  {
   "cell_type": "code",
   "execution_count": 13,
   "id": "2f9b8dbe",
   "metadata": {},
   "outputs": [
    {
     "name": "stdout",
     "output_type": "stream",
     "text": [
      "✅ ECG counts by diagnostic superclass:\n",
      "NORM: 1902\n",
      "MI: 931\n",
      "STTC: 574\n"
     ]
    }
   ],
   "source": [
    "# Count ECGs by diagnostic_superclass\n",
    "counts = df_sample_ids_test['diagnostic_superclass'].value_counts()\n",
    "\n",
    "# Print results\n",
    "print(\"✅ ECG counts by diagnostic superclass:\")\n",
    "for label, count in counts.items():\n",
    "    print(f\"{label}: {count}\")"
   ]
  },
  {
   "cell_type": "code",
   "execution_count": 14,
   "id": "1ec4d424",
   "metadata": {},
   "outputs": [
    {
     "name": "stderr",
     "output_type": "stream",
     "text": [
      "1682.86s - pydevd: Sending message related to process being replaced timed-out after 5 seconds\n"
     ]
    },
    {
     "name": "stdout",
     "output_type": "stream",
     "text": [
      "\u001b[34m__pycache__\u001b[m\u001b[m/                  train.py\n",
      "count_samples.py              train_batches.py\n",
      "evaluate_model.py             train_batches_auto_hpo.py\n",
      "evaluate_model_with_noise.py  train_full_hpo.py\n",
      "extract.py                    train_full_model.py\n",
      "focal_loss.py\n"
     ]
    }
   ],
   "source": [
    "ls ../src/"
   ]
  },
  {
   "cell_type": "code",
   "execution_count": 17,
   "id": "ddeb24fa",
   "metadata": {},
   "outputs": [
    {
     "name": "stderr",
     "output_type": "stream",
     "text": [
      "3931.36s - pydevd: Sending message related to process being replaced timed-out after 5 seconds\n"
     ]
    },
    {
     "name": "stdout",
     "output_type": "stream",
     "text": [
      "README.md  \u001b[34mbatches\u001b[m\u001b[m/   \u001b[34mhpo_logs\u001b[m\u001b[m/  \u001b[34mmodels\u001b[m\u001b[m/    \u001b[34mnotebooks\u001b[m\u001b[m/ \u001b[34msrc\u001b[m\u001b[m/       \u001b[34mvenv\u001b[m\u001b[m/\n"
     ]
    }
   ],
   "source": [
    "ls ../\n"
   ]
  },
  {
   "cell_type": "code",
   "execution_count": 19,
   "id": "98d7979a",
   "metadata": {},
   "outputs": [
    {
     "name": "stderr",
     "output_type": "stream",
     "text": [
      "4035.65s - pydevd: Sending message related to process being replaced timed-out after 5 seconds\n"
     ]
    },
    {
     "name": "stdout",
     "output_type": "stream",
     "text": [
      "lead1_model_full_hpo.keras     lead1_model_full_hpo_V4.keras\n",
      "lead1_model_full_hpo_V2.keras  \u001b[34mlegacy_versions\u001b[m\u001b[m/\n",
      "lead1_model_full_hpo_V3.keras\n"
     ]
    }
   ],
   "source": [
    "ls ../models"
   ]
  },
  {
   "cell_type": "code",
   "execution_count": 20,
   "id": "beca7923",
   "metadata": {},
   "outputs": [
    {
     "name": "stderr",
     "output_type": "stream",
     "text": [
      "4137.53s - pydevd: Sending message related to process being replaced timed-out after 5 seconds\n"
     ]
    },
    {
     "name": "stdout",
     "output_type": "stream",
     "text": [
      "\u001b[34m__pycache__\u001b[m\u001b[m/                  extract.py\n",
      "evaluate_model.py             focal_loss.py\n",
      "evaluate_model_with_noise.py  \u001b[34mlegacy\u001b[m\u001b[m/\n"
     ]
    }
   ],
   "source": [
    "ls ../src\n"
   ]
  },
  {
   "cell_type": "code",
   "execution_count": null,
   "id": "b499d7fa",
   "metadata": {},
   "outputs": [],
   "source": []
  }
 ],
 "metadata": {
  "kernelspec": {
   "display_name": "venv",
   "language": "python",
   "name": "python3"
  },
  "language_info": {
   "codemirror_mode": {
    "name": "ipython",
    "version": 3
   },
   "file_extension": ".py",
   "mimetype": "text/x-python",
   "name": "python",
   "nbconvert_exporter": "python",
   "pygments_lexer": "ipython3",
   "version": "3.10.18"
  }
 },
 "nbformat": 4,
 "nbformat_minor": 5
}
